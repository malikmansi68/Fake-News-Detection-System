{
 "cells": [
  {
   "cell_type": "markdown",
   "id": "6961082a",
   "metadata": {},
   "source": [
    "# task 1\n",
    "-Make a Fake news detecting system based on a data set with the help of machine learning\n"
   ]
  },
  {
   "cell_type": "markdown",
   "id": "3cabdb35",
   "metadata": {},
   "source": [
    "# mansi\n",
    "# DataSet:\n",
    "https://drive.google.com/file/d/1er9NJTLUA3qnRuyhfzuN0XUsoIC4a-_q/view\n"
   ]
  },
  {
   "cell_type": "markdown",
   "id": "530220bb",
   "metadata": {},
   "source": [
    "# importing the libraries\n"
   ]
  },
  {
   "cell_type": "code",
   "execution_count": 1,
   "id": "48c8413b",
   "metadata": {},
   "outputs": [],
   "source": [
    "import pandas as pd\n",
    "import numpy as np\n",
    "import re\n",
    "from nltk.corpus import stopwords\n",
    "from nltk.stem.porter import PorterStemmer\n",
    "from sklearn.feature_extraction.text import TfidfVectorizer\n",
    "from sklearn.model_selection import train_test_split\n",
    "from sklearn.linear_model import LogisticRegression\n",
    "from sklearn.metrics import accuracy_score"
   ]
  },
  {
   "cell_type": "code",
   "execution_count": 2,
   "id": "e81f7ad8",
   "metadata": {},
   "outputs": [
    {
     "name": "stderr",
     "output_type": "stream",
     "text": [
      "[nltk_data] Downloading package stopwords to\n",
      "[nltk_data]     C:\\Users\\MANSI\\AppData\\Roaming\\nltk_data...\n",
      "[nltk_data]   Package stopwords is already up-to-date!\n"
     ]
    },
    {
     "data": {
      "text/plain": [
       "True"
      ]
     },
     "execution_count": 2,
     "metadata": {},
     "output_type": "execute_result"
    }
   ],
   "source": [
    "import nltk\n",
    "nltk.download ('stopwords')"
   ]
  },
  {
   "cell_type": "code",
   "execution_count": 3,
   "id": "f0e39a03",
   "metadata": {},
   "outputs": [
    {
     "name": "stdout",
     "output_type": "stream",
     "text": [
      "['i', 'me', 'my', 'myself', 'we', 'our', 'ours', 'ourselves', 'you', \"you're\", \"you've\", \"you'll\", \"you'd\", 'your', 'yours', 'yourself', 'yourselves', 'he', 'him', 'his', 'himself', 'she', \"she's\", 'her', 'hers', 'herself', 'it', \"it's\", 'its', 'itself', 'they', 'them', 'their', 'theirs', 'themselves', 'what', 'which', 'who', 'whom', 'this', 'that', \"that'll\", 'these', 'those', 'am', 'is', 'are', 'was', 'were', 'be', 'been', 'being', 'have', 'has', 'had', 'having', 'do', 'does', 'did', 'doing', 'a', 'an', 'the', 'and', 'but', 'if', 'or', 'because', 'as', 'until', 'while', 'of', 'at', 'by', 'for', 'with', 'about', 'against', 'between', 'into', 'through', 'during', 'before', 'after', 'above', 'below', 'to', 'from', 'up', 'down', 'in', 'out', 'on', 'off', 'over', 'under', 'again', 'further', 'then', 'once', 'here', 'there', 'when', 'where', 'why', 'how', 'all', 'any', 'both', 'each', 'few', 'more', 'most', 'other', 'some', 'such', 'no', 'nor', 'not', 'only', 'own', 'same', 'so', 'than', 'too', 'very', 's', 't', 'can', 'will', 'just', 'don', \"don't\", 'should', \"should've\", 'now', 'd', 'll', 'm', 'o', 're', 've', 'y', 'ain', 'aren', \"aren't\", 'couldn', \"couldn't\", 'didn', \"didn't\", 'doesn', \"doesn't\", 'hadn', \"hadn't\", 'hasn', \"hasn't\", 'haven', \"haven't\", 'isn', \"isn't\", 'ma', 'mightn', \"mightn't\", 'mustn', \"mustn't\", 'needn', \"needn't\", 'shan', \"shan't\", 'shouldn', \"shouldn't\", 'wasn', \"wasn't\", 'weren', \"weren't\", 'won', \"won't\", 'wouldn', \"wouldn't\"]\n"
     ]
    }
   ],
   "source": [
    "print(stopwords.words('english'))\n",
    "#printing the stopwords(which doesn't add much meaning to a text) in the english language"
   ]
  },
  {
   "cell_type": "markdown",
   "id": "c22fee36",
   "metadata": {},
   "source": [
    "# data preprocessing"
   ]
  },
  {
   "cell_type": "code",
   "execution_count": 4,
   "id": "8a17b727",
   "metadata": {},
   "outputs": [],
   "source": [
    "#importing our dataset to a pandas dataframe\n",
    "news_dataset=pd.read_csv('news.csv')"
   ]
  },
  {
   "cell_type": "code",
   "execution_count": 5,
   "id": "131572fb",
   "metadata": {},
   "outputs": [
    {
     "data": {
      "text/html": [
       "<div>\n",
       "<style scoped>\n",
       "    .dataframe tbody tr th:only-of-type {\n",
       "        vertical-align: middle;\n",
       "    }\n",
       "\n",
       "    .dataframe tbody tr th {\n",
       "        vertical-align: top;\n",
       "    }\n",
       "\n",
       "    .dataframe thead th {\n",
       "        text-align: right;\n",
       "    }\n",
       "</style>\n",
       "<table border=\"1\" class=\"dataframe\">\n",
       "  <thead>\n",
       "    <tr style=\"text-align: right;\">\n",
       "      <th></th>\n",
       "      <th>Unnamed: 0</th>\n",
       "      <th>title</th>\n",
       "      <th>text</th>\n",
       "      <th>label</th>\n",
       "    </tr>\n",
       "  </thead>\n",
       "  <tbody>\n",
       "    <tr>\n",
       "      <th>0</th>\n",
       "      <td>8476</td>\n",
       "      <td>You Can Smell Hillary’s Fear</td>\n",
       "      <td>Daniel Greenfield, a Shillman Journalism Fello...</td>\n",
       "      <td>FAKE</td>\n",
       "    </tr>\n",
       "    <tr>\n",
       "      <th>1</th>\n",
       "      <td>10294</td>\n",
       "      <td>Watch The Exact Moment Paul Ryan Committed Pol...</td>\n",
       "      <td>Google Pinterest Digg Linkedin Reddit Stumbleu...</td>\n",
       "      <td>FAKE</td>\n",
       "    </tr>\n",
       "    <tr>\n",
       "      <th>2</th>\n",
       "      <td>3608</td>\n",
       "      <td>Kerry to go to Paris in gesture of sympathy</td>\n",
       "      <td>U.S. Secretary of State John F. Kerry said Mon...</td>\n",
       "      <td>REAL</td>\n",
       "    </tr>\n",
       "    <tr>\n",
       "      <th>3</th>\n",
       "      <td>10142</td>\n",
       "      <td>Bernie supporters on Twitter erupt in anger ag...</td>\n",
       "      <td>— Kaydee King (@KaydeeKing) November 9, 2016 T...</td>\n",
       "      <td>FAKE</td>\n",
       "    </tr>\n",
       "    <tr>\n",
       "      <th>4</th>\n",
       "      <td>875</td>\n",
       "      <td>The Battle of New York: Why This Primary Matters</td>\n",
       "      <td>It's primary day in New York and front-runners...</td>\n",
       "      <td>REAL</td>\n",
       "    </tr>\n",
       "  </tbody>\n",
       "</table>\n",
       "</div>"
      ],
      "text/plain": [
       "   Unnamed: 0                                              title  \\\n",
       "0        8476                       You Can Smell Hillary’s Fear   \n",
       "1       10294  Watch The Exact Moment Paul Ryan Committed Pol...   \n",
       "2        3608        Kerry to go to Paris in gesture of sympathy   \n",
       "3       10142  Bernie supporters on Twitter erupt in anger ag...   \n",
       "4         875   The Battle of New York: Why This Primary Matters   \n",
       "\n",
       "                                                text label  \n",
       "0  Daniel Greenfield, a Shillman Journalism Fello...  FAKE  \n",
       "1  Google Pinterest Digg Linkedin Reddit Stumbleu...  FAKE  \n",
       "2  U.S. Secretary of State John F. Kerry said Mon...  REAL  \n",
       "3  — Kaydee King (@KaydeeKing) November 9, 2016 T...  FAKE  \n",
       "4  It's primary day in New York and front-runners...  REAL  "
      ]
     },
     "execution_count": 5,
     "metadata": {},
     "output_type": "execute_result"
    }
   ],
   "source": [
    "#lets check first 5  datapoint of our dataset\n",
    "news_dataset.head()"
   ]
  },
  {
   "cell_type": "code",
   "execution_count": 6,
   "id": "aee42344",
   "metadata": {},
   "outputs": [
    {
     "data": {
      "text/html": [
       "<div>\n",
       "<style scoped>\n",
       "    .dataframe tbody tr th:only-of-type {\n",
       "        vertical-align: middle;\n",
       "    }\n",
       "\n",
       "    .dataframe tbody tr th {\n",
       "        vertical-align: top;\n",
       "    }\n",
       "\n",
       "    .dataframe thead th {\n",
       "        text-align: right;\n",
       "    }\n",
       "</style>\n",
       "<table border=\"1\" class=\"dataframe\">\n",
       "  <thead>\n",
       "    <tr style=\"text-align: right;\">\n",
       "      <th></th>\n",
       "      <th>Unnamed: 0</th>\n",
       "      <th>title</th>\n",
       "      <th>text</th>\n",
       "      <th>label</th>\n",
       "    </tr>\n",
       "  </thead>\n",
       "  <tbody>\n",
       "    <tr>\n",
       "      <th>0</th>\n",
       "      <td>8476</td>\n",
       "      <td>You Can Smell Hillary’s Fear</td>\n",
       "      <td>Daniel Greenfield, a Shillman Journalism Fello...</td>\n",
       "      <td>FAKE</td>\n",
       "    </tr>\n",
       "    <tr>\n",
       "      <th>1</th>\n",
       "      <td>10294</td>\n",
       "      <td>Watch The Exact Moment Paul Ryan Committed Pol...</td>\n",
       "      <td>Google Pinterest Digg Linkedin Reddit Stumbleu...</td>\n",
       "      <td>FAKE</td>\n",
       "    </tr>\n",
       "    <tr>\n",
       "      <th>2</th>\n",
       "      <td>3608</td>\n",
       "      <td>Kerry to go to Paris in gesture of sympathy</td>\n",
       "      <td>U.S. Secretary of State John F. Kerry said Mon...</td>\n",
       "      <td>REAL</td>\n",
       "    </tr>\n",
       "    <tr>\n",
       "      <th>3</th>\n",
       "      <td>10142</td>\n",
       "      <td>Bernie supporters on Twitter erupt in anger ag...</td>\n",
       "      <td>— Kaydee King (@KaydeeKing) November 9, 2016 T...</td>\n",
       "      <td>FAKE</td>\n",
       "    </tr>\n",
       "    <tr>\n",
       "      <th>4</th>\n",
       "      <td>875</td>\n",
       "      <td>The Battle of New York: Why This Primary Matters</td>\n",
       "      <td>It's primary day in New York and front-runners...</td>\n",
       "      <td>REAL</td>\n",
       "    </tr>\n",
       "  </tbody>\n",
       "</table>\n",
       "</div>"
      ],
      "text/plain": [
       "   Unnamed: 0                                              title  \\\n",
       "0        8476                       You Can Smell Hillary’s Fear   \n",
       "1       10294  Watch The Exact Moment Paul Ryan Committed Pol...   \n",
       "2        3608        Kerry to go to Paris in gesture of sympathy   \n",
       "3       10142  Bernie supporters on Twitter erupt in anger ag...   \n",
       "4         875   The Battle of New York: Why This Primary Matters   \n",
       "\n",
       "                                                text label  \n",
       "0  Daniel Greenfield, a Shillman Journalism Fello...  FAKE  \n",
       "1  Google Pinterest Digg Linkedin Reddit Stumbleu...  FAKE  \n",
       "2  U.S. Secretary of State John F. Kerry said Mon...  REAL  \n",
       "3  — Kaydee King (@KaydeeKing) November 9, 2016 T...  FAKE  \n",
       "4  It's primary day in New York and front-runners...  REAL  "
      ]
     },
     "execution_count": 6,
     "metadata": {},
     "output_type": "execute_result"
    }
   ],
   "source": [
    "#last five datapoints of our dataset\n",
    "news_dataset.head()"
   ]
  },
  {
   "cell_type": "code",
   "execution_count": 7,
   "id": "e0ca328b",
   "metadata": {},
   "outputs": [
    {
     "data": {
      "text/plain": [
       "(6335, 4)"
      ]
     },
     "execution_count": 7,
     "metadata": {},
     "output_type": "execute_result"
    }
   ],
   "source": [
    "#let's check column and rows in our dataset\n",
    "news_dataset.shape\n",
    "#so,we have 4 column(features) and 6335 rows(news articles)"
   ]
  },
  {
   "cell_type": "code",
   "execution_count": 8,
   "id": "a9112b5a",
   "metadata": {},
   "outputs": [
    {
     "data": {
      "text/plain": [
       "Unnamed: 0    0\n",
       "title         0\n",
       "text          0\n",
       "label         0\n",
       "dtype: int64"
      ]
     },
     "execution_count": 8,
     "metadata": {},
     "output_type": "execute_result"
    }
   ],
   "source": [
    "#let's check missing values in our dataset\n",
    "news_dataset.isnull().sum()\n",
    "#so,we have no null values ,which is a good news for us"
   ]
  },
  {
   "cell_type": "code",
   "execution_count": 9,
   "id": "06da3a41",
   "metadata": {},
   "outputs": [],
   "source": [
    "news_dataset['content'] =  news_dataset['title']"
   ]
  },
  {
   "cell_type": "code",
   "execution_count": 10,
   "id": "00ec0d28",
   "metadata": {},
   "outputs": [
    {
     "name": "stdout",
     "output_type": "stream",
     "text": [
      "0                            You Can Smell Hillary’s Fear\n",
      "1       Watch The Exact Moment Paul Ryan Committed Pol...\n",
      "2             Kerry to go to Paris in gesture of sympathy\n",
      "3       Bernie supporters on Twitter erupt in anger ag...\n",
      "4        The Battle of New York: Why This Primary Matters\n",
      "                              ...                        \n",
      "6330    State Department says it can't find emails fro...\n",
      "6331    The ‘P’ in PBS Should Stand for ‘Plutocratic’ ...\n",
      "6332    Anti-Trump Protesters Are Tools of the Oligarc...\n",
      "6333    In Ethiopia, Obama seeks progress on peace, se...\n",
      "6334    Jeb Bush Is Suddenly Attacking Trump. Here's W...\n",
      "Name: content, Length: 6335, dtype: object\n"
     ]
    }
   ],
   "source": [
    "print(news_dataset['content'])"
   ]
  },
  {
   "cell_type": "code",
   "execution_count": 11,
   "id": "654a7f66",
   "metadata": {},
   "outputs": [],
   "source": [
    "#separating the data and labels\n",
    "x=news_dataset.drop(columns='label',axis=1)"
   ]
  },
  {
   "cell_type": "code",
   "execution_count": 12,
   "id": "d580017b",
   "metadata": {},
   "outputs": [
    {
     "name": "stdout",
     "output_type": "stream",
     "text": [
      "      Unnamed: 0                                              title  \\\n",
      "0           8476                       You Can Smell Hillary’s Fear   \n",
      "1          10294  Watch The Exact Moment Paul Ryan Committed Pol...   \n",
      "2           3608        Kerry to go to Paris in gesture of sympathy   \n",
      "3          10142  Bernie supporters on Twitter erupt in anger ag...   \n",
      "4            875   The Battle of New York: Why This Primary Matters   \n",
      "...          ...                                                ...   \n",
      "6330        4490  State Department says it can't find emails fro...   \n",
      "6331        8062  The ‘P’ in PBS Should Stand for ‘Plutocratic’ ...   \n",
      "6332        8622  Anti-Trump Protesters Are Tools of the Oligarc...   \n",
      "6333        4021  In Ethiopia, Obama seeks progress on peace, se...   \n",
      "6334        4330  Jeb Bush Is Suddenly Attacking Trump. Here's W...   \n",
      "\n",
      "                                                   text  \\\n",
      "0     Daniel Greenfield, a Shillman Journalism Fello...   \n",
      "1     Google Pinterest Digg Linkedin Reddit Stumbleu...   \n",
      "2     U.S. Secretary of State John F. Kerry said Mon...   \n",
      "3     — Kaydee King (@KaydeeKing) November 9, 2016 T...   \n",
      "4     It's primary day in New York and front-runners...   \n",
      "...                                                 ...   \n",
      "6330  The State Department told the Republican Natio...   \n",
      "6331  The ‘P’ in PBS Should Stand for ‘Plutocratic’ ...   \n",
      "6332   Anti-Trump Protesters Are Tools of the Oligar...   \n",
      "6333  ADDIS ABABA, Ethiopia —President Obama convene...   \n",
      "6334  Jeb Bush Is Suddenly Attacking Trump. Here's W...   \n",
      "\n",
      "                                                content  \n",
      "0                          You Can Smell Hillary’s Fear  \n",
      "1     Watch The Exact Moment Paul Ryan Committed Pol...  \n",
      "2           Kerry to go to Paris in gesture of sympathy  \n",
      "3     Bernie supporters on Twitter erupt in anger ag...  \n",
      "4      The Battle of New York: Why This Primary Matters  \n",
      "...                                                 ...  \n",
      "6330  State Department says it can't find emails fro...  \n",
      "6331  The ‘P’ in PBS Should Stand for ‘Plutocratic’ ...  \n",
      "6332  Anti-Trump Protesters Are Tools of the Oligarc...  \n",
      "6333  In Ethiopia, Obama seeks progress on peace, se...  \n",
      "6334  Jeb Bush Is Suddenly Attacking Trump. Here's W...  \n",
      "\n",
      "[6335 rows x 4 columns]\n"
     ]
    }
   ],
   "source": [
    "print(x)\n",
    "#so,we don't have label now"
   ]
  },
  {
   "cell_type": "code",
   "execution_count": 13,
   "id": "b671e5d7",
   "metadata": {},
   "outputs": [],
   "source": [
    "y=news_dataset['label']"
   ]
  },
  {
   "cell_type": "code",
   "execution_count": 14,
   "id": "31f6ddc3",
   "metadata": {},
   "outputs": [
    {
     "name": "stdout",
     "output_type": "stream",
     "text": [
      "0       FAKE\n",
      "1       FAKE\n",
      "2       REAL\n",
      "3       FAKE\n",
      "4       REAL\n",
      "        ... \n",
      "6330    REAL\n",
      "6331    FAKE\n",
      "6332    FAKE\n",
      "6333    REAL\n",
      "6334    REAL\n",
      "Name: label, Length: 6335, dtype: object\n"
     ]
    }
   ],
   "source": [
    "print(y)"
   ]
  },
  {
   "cell_type": "markdown",
   "id": "9c337658",
   "metadata": {},
   "source": [
    "# stemming"
   ]
  },
  {
   "cell_type": "markdown",
   "id": "c92caaf6",
   "metadata": {},
   "source": [
    "it is the process which reduce a word to its reduce root word"
   ]
  },
  {
   "cell_type": "code",
   "execution_count": 15,
   "id": "1ff3e08b",
   "metadata": {},
   "outputs": [],
   "source": [
    "port_stem= PorterStemmer()"
   ]
  },
  {
   "cell_type": "code",
   "execution_count": 16,
   "id": "178c8a37",
   "metadata": {},
   "outputs": [],
   "source": [
    "#creating a fucntion named stemming\n",
    "def stemming(content):\n",
    "    stemmed_content=re.sub('[^a-zA-Z]',' ',content)\n",
    "    #this will remove all other thing(numbers,punctuations etc.) from our text which are not alphabet\n",
    "    stemmed_content=stemmed_content.lower()\n",
    "    #covert whole text to lowercase letter\n",
    "    stemmed_content=stemmed_content.split() \n",
    "    #  text will be splitted and converted to list\n",
    "    stemmed_content=[port_stem.stem(word) for word in stemmed_content if not word in stopwords.words('english')]\n",
    "    #doing stemming on each word(removing stopwords(this are insignificant)from our text)\n",
    "    stemmed_content=' '.join(stemmed_content)\n",
    "    #after stemming joining all the word of our text\n",
    "    return stemmed_content\n"
   ]
  },
  {
   "cell_type": "code",
   "execution_count": 17,
   "id": "473301eb",
   "metadata": {},
   "outputs": [],
   "source": [
    "#now,we will apply this fuction to our 'content column' \n",
    "news_dataset['content'] = news_dataset['content'].apply(stemming)\n",
    "#we will apply this function to our dataset and return that as a column named as text"
   ]
  },
  {
   "cell_type": "code",
   "execution_count": 18,
   "id": "1cc9a579",
   "metadata": {},
   "outputs": [
    {
     "name": "stdout",
     "output_type": "stream",
     "text": [
      "      Unnamed: 0                                              title  \\\n",
      "0           8476                       You Can Smell Hillary’s Fear   \n",
      "1          10294  Watch The Exact Moment Paul Ryan Committed Pol...   \n",
      "2           3608        Kerry to go to Paris in gesture of sympathy   \n",
      "3          10142  Bernie supporters on Twitter erupt in anger ag...   \n",
      "4            875   The Battle of New York: Why This Primary Matters   \n",
      "...          ...                                                ...   \n",
      "6330        4490  State Department says it can't find emails fro...   \n",
      "6331        8062  The ‘P’ in PBS Should Stand for ‘Plutocratic’ ...   \n",
      "6332        8622  Anti-Trump Protesters Are Tools of the Oligarc...   \n",
      "6333        4021  In Ethiopia, Obama seeks progress on peace, se...   \n",
      "6334        4330  Jeb Bush Is Suddenly Attacking Trump. Here's W...   \n",
      "\n",
      "                                                   text label  \\\n",
      "0     Daniel Greenfield, a Shillman Journalism Fello...  FAKE   \n",
      "1     Google Pinterest Digg Linkedin Reddit Stumbleu...  FAKE   \n",
      "2     U.S. Secretary of State John F. Kerry said Mon...  REAL   \n",
      "3     — Kaydee King (@KaydeeKing) November 9, 2016 T...  FAKE   \n",
      "4     It's primary day in New York and front-runners...  REAL   \n",
      "...                                                 ...   ...   \n",
      "6330  The State Department told the Republican Natio...  REAL   \n",
      "6331  The ‘P’ in PBS Should Stand for ‘Plutocratic’ ...  FAKE   \n",
      "6332   Anti-Trump Protesters Are Tools of the Oligar...  FAKE   \n",
      "6333  ADDIS ABABA, Ethiopia —President Obama convene...  REAL   \n",
      "6334  Jeb Bush Is Suddenly Attacking Trump. Here's W...  REAL   \n",
      "\n",
      "                                                content  \n",
      "0                                    smell hillari fear  \n",
      "1     watch exact moment paul ryan commit polit suic...  \n",
      "2                         kerri go pari gestur sympathi  \n",
      "3        berni support twitter erupt anger dnc tri warn  \n",
      "4                         battl new york primari matter  \n",
      "...                                                 ...  \n",
      "6330     state depart say find email clinton specialist  \n",
      "6331                      p pb stand plutocrat pentagon  \n",
      "6332           anti trump protest tool oligarchi inform  \n",
      "6333  ethiopia obama seek progress peac secur east a...  \n",
      "6334              jeb bush suddenli attack trump matter  \n",
      "\n",
      "[6335 rows x 5 columns]\n"
     ]
    }
   ],
   "source": [
    "print(news_dataset)\n",
    "#printing our stemmed text"
   ]
  },
  {
   "cell_type": "markdown",
   "id": "d3d749a1",
   "metadata": {},
   "source": [
    "# separating data and labels"
   ]
  },
  {
   "cell_type": "code",
   "execution_count": 19,
   "id": "e5cf1627",
   "metadata": {},
   "outputs": [],
   "source": [
    "X=news_dataset['content'].values\n",
    "Y=news_dataset['label'].values"
   ]
  },
  {
   "cell_type": "code",
   "execution_count": 20,
   "id": "4cd5306a",
   "metadata": {},
   "outputs": [
    {
     "name": "stdout",
     "output_type": "stream",
     "text": [
      "['smell hillari fear'\n",
      " 'watch exact moment paul ryan commit polit suicid trump ralli video'\n",
      " 'kerri go pari gestur sympathi' ...\n",
      " 'anti trump protest tool oligarchi inform'\n",
      " 'ethiopia obama seek progress peac secur east africa'\n",
      " 'jeb bush suddenli attack trump matter']\n"
     ]
    }
   ],
   "source": [
    "print(X)"
   ]
  },
  {
   "cell_type": "code",
   "execution_count": 21,
   "id": "a456ab95",
   "metadata": {},
   "outputs": [
    {
     "name": "stdout",
     "output_type": "stream",
     "text": [
      "['FAKE' 'FAKE' 'REAL' ... 'FAKE' 'REAL' 'REAL']\n"
     ]
    }
   ],
   "source": [
    "print(Y)"
   ]
  },
  {
   "cell_type": "markdown",
   "id": "8e764e9a",
   "metadata": {},
   "source": [
    "# converting textual data to numerical data"
   ]
  },
  {
   "cell_type": "code",
   "execution_count": 22,
   "id": "b237ecd1",
   "metadata": {},
   "outputs": [],
   "source": [
    "#from sklearn.feature_extraction.text import TfidfVectorizer\n",
    "vectorizer = TfidfVectorizer()\n",
    "x =vectorizer.fit_transform(X)\n",
    "#detect the word which are repeated too many times and add no value to our text\n"
   ]
  },
  {
   "cell_type": "code",
   "execution_count": 23,
   "id": "9c944685",
   "metadata": {},
   "outputs": [
    {
     "name": "stdout",
     "output_type": "stream",
     "text": [
      "  (0, 2230)\t0.5606827254461214\n",
      "  (0, 2817)\t0.31703295849951846\n",
      "  (0, 5631)\t0.7649346276717717\n",
      "  (1, 6571)\t0.21736822482437437\n",
      "  (1, 4905)\t0.29382045650093463\n",
      "  (1, 6315)\t0.13561903129801023\n",
      "  (1, 5933)\t0.3501812302002013\n",
      "  (1, 4630)\t0.24403179029804972\n",
      "  (1, 1212)\t0.3538286538491304\n",
      "  (1, 5263)\t0.29163264316148546\n",
      "  (1, 4462)\t0.26757273402295384\n",
      "  (1, 3939)\t0.3279355637571237\n",
      "  (1, 2101)\t0.44595444447238664\n",
      "  (1, 6671)\t0.27855534550881683\n",
      "  (2, 6015)\t0.5345737509664292\n",
      "  (2, 2536)\t0.5345737509664292\n",
      "  (2, 4428)\t0.37615749278439464\n",
      "  (2, 2576)\t0.3357697230253524\n",
      "  (2, 3335)\t0.41740393299177314\n",
      "  (3, 6658)\t0.3169347988352881\n",
      "  (3, 6288)\t0.31487349957846533\n",
      "  (3, 1764)\t0.35074544989300727\n",
      "  (3, 215)\t0.4191687920830454\n",
      "  (3, 2048)\t0.44483942568507917\n",
      "  (3, 6359)\t0.3719244073533966\n",
      "  :\t:\n",
      "  (6330, 1133)\t0.2086414599045263\n",
      "  (6331, 4474)\t0.5790025183139886\n",
      "  (6331, 4611)\t0.5530926787707366\n",
      "  (6331, 4493)\t0.45939150101458504\n",
      "  (6331, 5796)\t0.38445288563338503\n",
      "  (6332, 4270)\t0.5127436972273209\n",
      "  (6332, 4797)\t0.3475689418147302\n",
      "  (6332, 6213)\t0.5388543882104704\n",
      "  (6332, 3055)\t0.40296322598470885\n",
      "  (6332, 240)\t0.36339994825833366\n",
      "  (6332, 6315)\t0.177445191694796\n",
      "  (6333, 4771)\t0.3646570590777005\n",
      "  (6333, 2065)\t0.42541139061182254\n",
      "  (6333, 97)\t0.4008619030709882\n",
      "  (6333, 4477)\t0.3646570590777005\n",
      "  (6333, 1894)\t0.3755025923489876\n",
      "  (6333, 5396)\t0.31679685863195967\n",
      "  (6333, 5399)\t0.3335939909999011\n",
      "  (6333, 4225)\t0.19934378496079525\n",
      "  (6334, 5926)\t0.5902753327213516\n",
      "  (6334, 852)\t0.3798375641932667\n",
      "  (6334, 3210)\t0.4041108135061054\n",
      "  (6334, 368)\t0.35093820387285196\n",
      "  (6334, 3760)\t0.4278462554978103\n",
      "  (6334, 6315)\t0.1943781508679834\n"
     ]
    }
   ],
   "source": [
    "print(x)"
   ]
  },
  {
   "cell_type": "markdown",
   "id": "ab296e8f",
   "metadata": {},
   "source": [
    "# splitting our dataset into training and text data"
   ]
  },
  {
   "cell_type": "code",
   "execution_count": 27,
   "id": "629a21be",
   "metadata": {},
   "outputs": [],
   "source": [
    "x_train, x_test, y_train, y_test=train_test_split(x,Y,test_size=0.2,stratify=y,random_state=2)"
   ]
  },
  {
   "cell_type": "markdown",
   "id": "ad696eb8",
   "metadata": {},
   "source": [
    "# training the model"
   ]
  },
  {
   "cell_type": "code",
   "execution_count": 28,
   "id": "eb0751bc",
   "metadata": {},
   "outputs": [],
   "source": [
    "model=LogisticRegression()\n"
   ]
  },
  {
   "cell_type": "code",
   "execution_count": 29,
   "id": "2775482c",
   "metadata": {},
   "outputs": [
    {
     "data": {
      "text/plain": [
       "LogisticRegression()"
      ]
     },
     "execution_count": 29,
     "metadata": {},
     "output_type": "execute_result"
    }
   ],
   "source": [
    "model.fit(x_train,y_train)\n"
   ]
  },
  {
   "cell_type": "markdown",
   "id": "e74a6fb0",
   "metadata": {},
   "source": [
    "# evaluation of our model"
   ]
  },
  {
   "cell_type": "markdown",
   "id": "5ead9c35",
   "metadata": {},
   "source": [
    "accuracy score on the training data"
   ]
  },
  {
   "cell_type": "code",
   "execution_count": 30,
   "id": "390779d7",
   "metadata": {},
   "outputs": [],
   "source": [
    "x_train_prediction=model.predict(x_train)\n",
    "training_data_accuracy=accuracy_score(x_train_prediction,y_train)"
   ]
  },
  {
   "cell_type": "code",
   "execution_count": 31,
   "id": "9b22b2ba",
   "metadata": {},
   "outputs": [
    {
     "name": "stdout",
     "output_type": "stream",
     "text": [
      "accuracy score of traing data: 0.9076558800315706\n"
     ]
    }
   ],
   "source": [
    "print(\"accuracy score of traing data:\",training_data_accuracy)\n",
    "#so,we  have got good model accuracy on testing data set"
   ]
  },
  {
   "cell_type": "code",
   "execution_count": 32,
   "id": "f4e7964b",
   "metadata": {},
   "outputs": [],
   "source": [
    "x_test_prediction=model.predict(x_test)\n",
    "testing_data_accuracy=accuracy_score(x_test_prediction, y_test)\n",
    "#now,lets check our testing dataset accuracy"
   ]
  },
  {
   "cell_type": "code",
   "execution_count": 33,
   "id": "75b10fd6",
   "metadata": {},
   "outputs": [
    {
     "name": "stdout",
     "output_type": "stream",
     "text": [
      "accuracy score of testing data: 0.835043409629045\n"
     ]
    }
   ],
   "source": [
    "print(\"accuracy score of testing data:\",testing_data_accuracy)"
   ]
  },
  {
   "cell_type": "code",
   "execution_count": 34,
   "id": "f73b2cdc",
   "metadata": {},
   "outputs": [],
   "source": [
    "#so, we can see that our model is not overfitted and we have also got a good accuracy score"
   ]
  },
  {
   "cell_type": "markdown",
   "id": "0198ebd8",
   "metadata": {},
   "source": [
    "# make a predictive system"
   ]
  },
  {
   "cell_type": "code",
   "execution_count": 35,
   "id": "8d0989e1",
   "metadata": {},
   "outputs": [
    {
     "name": "stdout",
     "output_type": "stream",
     "text": [
      "['FAKE']\n",
      "The news is Fake\n"
     ]
    }
   ],
   "source": [
    "X_new = x_test[1]\n",
    "#take any datapoint from our test data as our model has'nt seen our test datset\n",
    "prediction = model.predict(X_new)\n",
    "print(prediction)\n",
    "\n",
    "if (prediction[0]==0):\n",
    "  print('The news is Real')\n",
    "else:\n",
    "  print('The news is Fake')"
   ]
  },
  {
   "cell_type": "code",
   "execution_count": 36,
   "id": "e557cc33",
   "metadata": {},
   "outputs": [
    {
     "name": "stdout",
     "output_type": "stream",
     "text": [
      "FAKE\n"
     ]
    }
   ],
   "source": [
    "print(y_test[1])"
   ]
  },
  {
   "cell_type": "markdown",
   "id": "ab9614b7",
   "metadata": {},
   "source": [
    "# so,our model has predicted the news is fake correctly."
   ]
  },
  {
   "cell_type": "code",
   "execution_count": null,
   "id": "86fde245",
   "metadata": {},
   "outputs": [],
   "source": []
  }
 ],
 "metadata": {
  "kernelspec": {
   "display_name": "Python 3 (ipykernel)",
   "language": "python",
   "name": "python3"
  },
  "language_info": {
   "codemirror_mode": {
    "name": "ipython",
    "version": 3
   },
   "file_extension": ".py",
   "mimetype": "text/x-python",
   "name": "python",
   "nbconvert_exporter": "python",
   "pygments_lexer": "ipython3",
   "version": "3.9.7"
  }
 },
 "nbformat": 4,
 "nbformat_minor": 5
}
